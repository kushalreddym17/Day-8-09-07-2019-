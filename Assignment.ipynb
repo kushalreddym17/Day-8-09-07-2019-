{
 "cells": [
  {
   "cell_type": "code",
   "execution_count": 1,
   "metadata": {},
   "outputs": [
    {
     "name": "stdout",
     "output_type": "stream",
     "text": [
      "14569"
     ]
    }
   ],
   "source": [
    "# Print the following numbers\n",
    "#  [1,4,5,6,9] - 14569\n",
    "list = [1,4,5,6,9]\n",
    "for x in range(len(list)):\n",
    "    print(list[x],end=\"\")"
   ]
  },
  {
   "cell_type": "code",
   "execution_count": 18,
   "metadata": {},
   "outputs": [
    {
     "name": "stdout",
     "output_type": "stream",
     "text": [
      "46"
     ]
    }
   ],
   "source": [
    "# Print even numbers\n",
    "#   [1,4,5,6,9]  - 46(Consider only even numbers from list)\n",
    "list = [1,4,5,6,9]\n",
    "for x in range(len(list)):\n",
    "    if list[x] % 2 == 0:\n",
    "        print(list[x],end=\"\")"
   ]
  },
  {
   "cell_type": "code",
   "execution_count": 23,
   "metadata": {},
   "outputs": [],
   "source": [
    "#  [1,2,3,4,5] - [1,4,3,16,5] (Consider only even number and square of it)\n",
    "def squareNum(li):\n",
    "    for x in range(len(li)):\n",
    "        if list[x] % 2 == 0:\n",
    "            y = list[x]*list[x]\n",
    "        return\n",
    "    print()\n",
    "li = [1,2,3,4,5]\n",
    "squareNum(li)"
   ]
  },
  {
   "cell_type": "code",
   "execution_count": null,
   "metadata": {},
   "outputs": [],
   "source": []
  }
 ],
 "metadata": {
  "kernelspec": {
   "display_name": "Python 3",
   "language": "python",
   "name": "python3"
  },
  "language_info": {
   "codemirror_mode": {
    "name": "ipython",
    "version": 3
   },
   "file_extension": ".py",
   "mimetype": "text/x-python",
   "name": "python",
   "nbconvert_exporter": "python",
   "pygments_lexer": "ipython3",
   "version": "3.7.3"
  }
 },
 "nbformat": 4,
 "nbformat_minor": 2
}
